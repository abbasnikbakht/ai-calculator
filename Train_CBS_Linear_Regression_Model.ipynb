{
 "cells": [
  {
   "cell_type": "code",
   "execution_count": null,
   "metadata": {},
   "outputs": [],
   "source": [
    "# These may be needed on new environments\n",
    "#!pip3 install --upgrade pip\n",
    "#!pip3 install requests --upgrade\n",
    "#!pip install tensorflow\n",
    "#!pip install matplotlib --upgrade\n",
    "#!pip install keras\n",
    "#!pip install --upgrade setuptools  --ignore-installed\n",
    "#!pip install tensorflow\n",
    "#!pip install numpy --upgrade --ignore-installed\n",
    "#!pip install sklearn --upgrade --ignore-installed"
   ]
  },
  {
   "cell_type": "code",
   "execution_count": 1,
   "metadata": {},
   "outputs": [
    {
     "data": {
      "text/html": [
       "<div>\n",
       "<style scoped>\n",
       "    .dataframe tbody tr th:only-of-type {\n",
       "        vertical-align: middle;\n",
       "    }\n",
       "\n",
       "    .dataframe tbody tr th {\n",
       "        vertical-align: top;\n",
       "    }\n",
       "\n",
       "    .dataframe thead th {\n",
       "        text-align: right;\n",
       "    }\n",
       "</style>\n",
       "<table border=\"1\" class=\"dataframe\">\n",
       "  <thead>\n",
       "    <tr style=\"text-align: right;\">\n",
       "      <th></th>\n",
       "      <th>cbs_index.cbs_index.price_index</th>\n",
       "      <th>cbs_index.cbs_index.year</th>\n",
       "      <th>year</th>\n",
       "      <th>index</th>\n",
       "    </tr>\n",
       "  </thead>\n",
       "  <tbody>\n",
       "    <tr>\n",
       "      <th>0</th>\n",
       "      <td>{'type': 'xs:decimal', 'value': -2.2}</td>\n",
       "      <td>{'type': 'xs:integer', 'value': 2010}</td>\n",
       "      <td>2010</td>\n",
       "      <td>-2.2</td>\n",
       "    </tr>\n",
       "    <tr>\n",
       "      <th>1</th>\n",
       "      <td>{'type': 'xs:decimal', 'value': 2.8}</td>\n",
       "      <td>{'type': 'xs:integer', 'value': 2015}</td>\n",
       "      <td>2015</td>\n",
       "      <td>2.8</td>\n",
       "    </tr>\n",
       "    <tr>\n",
       "      <th>2</th>\n",
       "      <td>{'type': 'xs:decimal', 'value': 5}</td>\n",
       "      <td>{'type': 'xs:integer', 'value': 2016}</td>\n",
       "      <td>2016</td>\n",
       "      <td>5.0</td>\n",
       "    </tr>\n",
       "    <tr>\n",
       "      <th>3</th>\n",
       "      <td>{'type': 'xs:decimal', 'value': 7.6}</td>\n",
       "      <td>{'type': 'xs:integer', 'value': 2017}</td>\n",
       "      <td>2017</td>\n",
       "      <td>7.6</td>\n",
       "    </tr>\n",
       "    <tr>\n",
       "      <th>4</th>\n",
       "      <td>{'type': 'xs:decimal', 'value': 9}</td>\n",
       "      <td>{'type': 'xs:integer', 'value': 2018}</td>\n",
       "      <td>2018</td>\n",
       "      <td>9.0</td>\n",
       "    </tr>\n",
       "  </tbody>\n",
       "</table>\n",
       "</div>"
      ],
      "text/plain": [
       "         cbs_index.cbs_index.price_index  \\\n",
       "0  {'type': 'xs:decimal', 'value': -2.2}   \n",
       "1   {'type': 'xs:decimal', 'value': 2.8}   \n",
       "2     {'type': 'xs:decimal', 'value': 5}   \n",
       "3   {'type': 'xs:decimal', 'value': 7.6}   \n",
       "4     {'type': 'xs:decimal', 'value': 9}   \n",
       "\n",
       "                cbs_index.cbs_index.year  year  index  \n",
       "0  {'type': 'xs:integer', 'value': 2010}  2010   -2.2  \n",
       "1  {'type': 'xs:integer', 'value': 2015}  2015    2.8  \n",
       "2  {'type': 'xs:integer', 'value': 2016}  2016    5.0  \n",
       "3  {'type': 'xs:integer', 'value': 2017}  2017    7.6  \n",
       "4  {'type': 'xs:integer', 'value': 2018}  2018    9.0  "
      ]
     },
     "execution_count": 1,
     "metadata": {},
     "output_type": "execute_result"
    }
   ],
   "source": [
    "# Get cleaned and trusted CBS house index data from Data Hub\n",
    "\n",
    "import requests\n",
    "from requests.auth import HTTPDigestAuth\n",
    "import json\n",
    "import time\n",
    "import pandas as pd\n",
    "import urllib.parse\n",
    "\n",
    "def getSQLResult(host, port, sql):\n",
    "    try:\n",
    "        sql = urllib.parse.quote(sql);\n",
    "        url = 'http://' + host + ':' + port + '/v1/rows'\n",
    "        header = {\"Accept\": \"application/json\"}\n",
    "        #plan = 'plan=%7B%0A\"$optic\":%20%7B%0A\"ns\":%20\"op\",%20%0A\"fn\":%20\"operators\",%20%0A\"args\":%20%5B%0A%7B%0A\"ns\":%20\"op\",%20%0A\"fn\":%20\"from-sql\",%20%0A\"args\":%20%5B%0A\"select%20*%20from%20cbs_index%20where%20year%20>%202009order%20by%20year\",%20%0Anull%0A%5D%0A%7D%0A%5D%0A%7D%0A%7D'\n",
    "        plan = 'plan=%7B%0A\"$optic\":%20%7B%0A\"ns\":%20\"op\",%20%0A\"fn\":%20\"operators\",%20%0A\"args\":%20%5B%0A%7B%0A\"ns\":%20\"op\",%20%0A\"fn\":%20\"from-sql\",%20%0A\"args\":%20%5B%0A\"' + sql + '\",%20%0Anull%0A%5D%0A%7D%0A%5D%0A%7D%0A%7D'\n",
    "\n",
    "        response = (requests.get(url+\"?\"+plan, auth=HTTPDigestAuth('admin', 'admin'), headers=header).text)\n",
    "        response = json.loads(response)\n",
    "        time.sleep(0.5)\n",
    "        return response\n",
    "    except Exception as e:\n",
    "        raise e\n",
    "        \n",
    "def parse_year(x):\n",
    "    try:\n",
    "        return x[\"value\"]\n",
    "    except Exception:\n",
    "        x = 0\n",
    "        return x\n",
    "       \n",
    "def parse_index(x):\n",
    "    try:\n",
    "        return x[\"value\"]\n",
    "    except Exception:\n",
    "        x = 0\n",
    "        return x\n",
    "    \n",
    "data = getSQLResult(\"localhost\", \"8011\", \"select * from cbs_index where year > 2009 order by year\")\n",
    "df = pd.DataFrame(data[\"rows\"])\n",
    "df[\"year\"] = df[\"cbs_index.cbs_index.year\"].apply(parse_year)\n",
    "df[\"index\"] = df[\"cbs_index.cbs_index.price_index\"].apply(parse_index)\n",
    "df"
   ]
  },
  {
   "cell_type": "code",
   "execution_count": 3,
   "metadata": {},
   "outputs": [
    {
     "data": {
      "image/png": "[encoded data removed]",
      "text/plain": [
       "<Figure size 432x288 with 1 Axes>"
      ]
     },
     "metadata": {
      "needs_background": "light"
     },
     "output_type": "display_data"
    }
   ],
   "source": [
    "# Plot the CBS data in a chart\n",
    "import warnings\n",
    "warnings.filterwarnings(action=\"ignore\", message=\".*elementwise.*\")\n",
    "\n",
    "import matplotlib.pyplot as plt\n",
    "plt.plot(df[\"year\"], df[\"index\"])\n",
    "plt.show()"
   ]
  },
  {
   "cell_type": "code",
   "execution_count": 4,
   "metadata": {},
   "outputs": [],
   "source": [
    "# Create a Linear Regression Model for the CBS data\n",
    "# Plot the regression in a chart\n",
    "#!pip install skl2onnx\n",
    "from sklearn import datasets, linear_model\n",
    "\n",
    "X=df['year'].values\n",
    "X=X.reshape(len(X),1)\n",
    "Y=df['index'].values\n",
    "Y=Y.reshape(len(X),1)\n",
    "model = linear_model.LinearRegression().fit(X,Y)"
   ]
  },
  {
   "cell_type": "code",
   "execution_count": 5,
   "metadata": {},
   "outputs": [
    {
     "data": {
      "image/png": "[encoded data removed]",
      "text/plain": [
       "<Figure size 432x288 with 1 Axes>"
      ]
     },
     "metadata": {
      "needs_background": "light"
     },
     "output_type": "display_data"
    }
   ],
   "source": [
    "import warnings\n",
    "warnings.filterwarnings(action=\"ignore\", message=\".*elementwise.*\")\n",
    "\n",
    "plt.plot(df[\"year\"], df[\"index\"])\n",
    "plt.xticks(X, X, rotation='vertical')\n",
    "plt.plot(X, model.predict(X), color='red',linewidth=3)\n",
    "plt.show()"
   ]
  },
  {
   "cell_type": "code",
   "execution_count": 6,
   "metadata": {},
   "outputs": [
    {
     "data": {
      "text/plain": [
       "9.71"
      ]
     },
     "execution_count": 6,
     "metadata": {},
     "output_type": "execute_result"
    }
   ],
   "source": [
    "model.predict([[2019]])[0][0].round(2)"
   ]
  },
  {
   "cell_type": "code",
   "execution_count": 7,
   "metadata": {},
   "outputs": [
    {
     "name": "stderr",
     "output_type": "stream",
     "text": [
      "The maximum opset needed by this model is only 1.\n"
     ]
    }
   ],
   "source": [
    "# Export to ONNX format\n",
    "from skl2onnx import convert_sklearn\n",
    "from skl2onnx.common.data_types import FloatTensorType\n",
    "\n",
    "initial_type = [('float_input', FloatTensorType([1, 1]))]\n",
    "onx = convert_sklearn(model, initial_types=initial_type, target_opset=8)\n",
    "\n",
    "with open(\"CBS_Linear_Regression.onnx\", \"wb\") as f:\n",
    "    f.write(onx.SerializeToString())"
   ]
  },
  {
   "cell_type": "code",
   "execution_count": 8,
   "metadata": {},
   "outputs": [
    {
     "name": "stdout",
     "output_type": "stream",
     "text": [
      "ir_version: 5\n",
      "producer_name: \"skl2onnx\"\n",
      "producer_version: \"1.5.1\"\n",
      "domain: \"ai.onnx\"\n",
      "model_version: 0\n",
      "doc_string: \"\"\n",
      "graph {\n",
      "  node {\n",
      "    input: \"float_input\"\n",
      "    output: \"variable\"\n",
      "    name: \"LinearRegressor\"\n",
      "    op_type: \"LinearRegressor\"\n",
      "    attribute {\n",
      "      name: \"coefficients\"\n",
      "      floats: 1.38556706905365\n",
      "      type: FLOATS\n",
      "    }\n",
      "    attribute {\n",
      "      name: \"intercepts\"\n",
      "      floats: -2787.754638671875\n",
      "      type: FLOATS\n",
      "    }\n",
      "    attribute {\n",
      "      name: \"targets\"\n",
      "      i: 1\n",
      "      type: INT\n",
      "    }\n",
      "    domain: \"ai.onnx.ml\"\n",
      "  }\n",
      "  name: \"373cab26674a41868c5b122e02616b9d\"\n",
      "  input {\n",
      "    name: \"float_input\"\n",
      "    type {\n",
      "      tensor_type {\n",
      "        elem_type: 1\n",
      "        shape {\n",
      "          dim {\n",
      "            dim_value: 1\n",
      "          }\n",
      "          dim {\n",
      "            dim_value: 1\n",
      "          }\n",
      "        }\n",
      "      }\n",
      "    }\n",
      "  }\n",
      "  output {\n",
      "    name: \"variable\"\n",
      "    type {\n",
      "      tensor_type {\n",
      "        elem_type: 1\n",
      "        shape {\n",
      "          dim {\n",
      "            dim_value: 1\n",
      "          }\n",
      "          dim {\n",
      "            dim_value: 1\n",
      "          }\n",
      "        }\n",
      "      }\n",
      "    }\n",
      "  }\n",
      "}\n",
      "opset_import {\n",
      "  domain: \"ai.onnx.ml\"\n",
      "  version: 1\n",
      "}\n",
      "\n"
     ]
    }
   ],
   "source": [
    "# Load the ONNX and print it out\n",
    "\n",
    "import onnx\n",
    "model = onnx.load('CBS_Linear_Regression.onnx')\n",
    "print(model)"
   ]
  },
  {
   "cell_type": "code",
   "execution_count": 9,
   "metadata": {},
   "outputs": [
    {
     "name": "stdout",
     "output_type": "stream",
     "text": [
      "input name float_input\n"
     ]
    },
    {
     "data": {
      "text/plain": [
       "array([9.71], dtype=float32)"
      ]
     },
     "execution_count": 9,
     "metadata": {},
     "output_type": "execute_result"
    }
   ],
   "source": [
    "# Test the ONNX model using the ONNX runtime\n",
    "import onnxruntime as rt\n",
    "import numpy as np\n",
    "\n",
    "sess = rt.InferenceSession(\"CBS_Linear_Regression.onnx\")\n",
    "input_name = sess.get_inputs()[0].name\n",
    "print(\"input name\", input_name)\n",
    "label_name = sess.get_outputs()[0].name\n",
    "X_test = np.array([2019])\n",
    "pred_onx = sess.run([label_name], {input_name: X_test.astype(np.float32)})[0]\n",
    "pred_onx[0].round(2)"
   ]
  },
  {
   "cell_type": "code",
   "execution_count": 10,
   "metadata": {},
   "outputs": [
    {
     "name": "stdout",
     "output_type": "stream",
     "text": [
      "<Response [204]>\n"
     ]
    }
   ],
   "source": [
    "# Store the model in MarkLogic\n",
    "import requests\n",
    "from requests.auth import HTTPDigestAuth\n",
    "\n",
    "try:\n",
    "    url = 'http://localhost:8011/v1/documents'\n",
    "    header = {\"Accept\": \"application/json\"}\n",
    "    params = 'uri=CBS_Linear_Regression.onnx'\n",
    "    \n",
    "    response = (requests.put(url+\"?\"+params, auth=HTTPDigestAuth('admin', 'admin'), headers=header, data=onx.SerializeToString()))\n",
    "    print(response)\n",
    "except Exception as e:\n",
    "    raise e"
   ]
  },
  {
   "cell_type": "code",
   "execution_count": null,
   "metadata": {},
   "outputs": [],
   "source": []
  }
 ],
 "metadata": {
  "kernelspec": {
   "display_name": "Python 3",
   "language": "python",
   "name": "python3"
  },
  "language_info": {
   "codemirror_mode": {
    "name": "ipython",
    "version": 3
   },
   "file_extension": ".py",
   "mimetype": "text/x-python",
   "name": "python",
   "nbconvert_exporter": "python",
   "pygments_lexer": "ipython3",
   "version": "3.7.3"
  }
 },
 "nbformat": 4,
 "nbformat_minor": 2
}
