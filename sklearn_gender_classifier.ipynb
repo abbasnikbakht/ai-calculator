{
 "cells": [
  {
   "cell_type": "code",
   "execution_count": 1,
   "metadata": {},
   "outputs": [
    {
     "name": "stderr",
     "output_type": "stream",
     "text": [
      "The maximum opset needed by this model is only 1.\n",
      "The maximum opset needed by this model is only 1.\n"
     ]
    }
   ],
   "source": [
    "from sklearn import tree\n",
    "from skl2onnx import convert_sklearn\n",
    "from skl2onnx.common.data_types import FloatTensorType\n",
    "\n",
    "# Training Data\n",
    "X = [[181, 80, 44], [177, 70, 43], [160, 60, 38], \n",
    "     [154, 54, 37], [166, 65, 40], [190, 90, 47], \n",
    "     [175, 64, 39], [177, 70, 40], [159, 55, 37], \n",
    "     [171, 75, 42], [181, 85, 43]]\n",
    "\n",
    "Y = ['male', 'male', 'female', 'female', \n",
    "  'male', 'male', 'female', 'female', \n",
    "  'female', 'male', 'male']\n",
    "\n",
    "# Train the model\n",
    "model = tree.DecisionTreeClassifier()\n",
    "model.fit(X,Y)\n",
    "\n",
    "# Export to ONNX\n",
    "initial_type = [('float_input', FloatTensorType([1, 1]))]\n",
    "onx = convert_sklearn(model, initial_types=initial_type, target_opset=7)\n",
    "with open(\"gender_classifier.onnx\", \"wb\") as f:\n",
    "    f.write(onx.SerializeToString())"
   ]
  },
  {
   "cell_type": "code",
   "execution_count": 2,
   "metadata": {},
   "outputs": [
    {
     "name": "stdout",
     "output_type": "stream",
     "text": [
      "input name float_input\n"
     ]
    },
    {
     "data": {
      "text/plain": [
       "array(['male'], dtype=object)"
      ]
     },
     "execution_count": 2,
     "metadata": {},
     "output_type": "execute_result"
    }
   ],
   "source": [
    "# Test the ONNX model using the ONNX runtime\n",
    "import onnxruntime as rt\n",
    "import numpy as np\n",
    "\n",
    "sess = rt.InferenceSession(\"gender_classifier.onnx\")\n",
    "input_name = sess.get_inputs()[0].name\n",
    "print(\"input name\", input_name)\n",
    "label_name = sess.get_outputs()[0].name\n",
    "X_test = np.array([160,60,43])\n",
    "pred_onx = sess.run([label_name], {input_name: X_test.astype(np.float32)})[0]\n",
    "pred_onx"
   ]
  },
  {
   "cell_type": "code",
   "execution_count": null,
   "metadata": {},
   "outputs": [],
   "source": []
  }
 ],
 "metadata": {
  "kernelspec": {
   "display_name": "Python_3_6",
   "language": "python",
   "name": "python_3_6"
  },
  "language_info": {
   "codemirror_mode": {
    "name": "ipython",
    "version": 3
   },
   "file_extension": ".py",
   "mimetype": "text/x-python",
   "name": "python",
   "nbconvert_exporter": "python",
   "pygments_lexer": "ipython3",
   "version": "3.7.4"
  }
 },
 "nbformat": 4,
 "nbformat_minor": 2
}
